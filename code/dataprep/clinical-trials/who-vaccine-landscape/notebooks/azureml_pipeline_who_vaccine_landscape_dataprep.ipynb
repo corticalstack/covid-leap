{
 "cells": [
  {
   "cell_type": "code",
   "execution_count": 35,
   "metadata": {},
   "outputs": [
    {
     "name": "stdout",
     "output_type": "stream",
     "text": [
      "Requirement already satisfied: azureml in /home/jp/anaconda3/envs/pybase/lib/python3.8/site-packages (0.2.7)\n",
      "Requirement already satisfied: python-dateutil in /home/jp/anaconda3/envs/pybase/lib/python3.8/site-packages (from azureml) (2.8.1)\n",
      "Requirement already satisfied: requests in /home/jp/anaconda3/envs/pybase/lib/python3.8/site-packages (from azureml) (2.25.1)\n",
      "Requirement already satisfied: pandas in /home/jp/anaconda3/envs/pybase/lib/python3.8/site-packages (from azureml) (1.2.1)\n",
      "Requirement already satisfied: six>=1.5 in /home/jp/anaconda3/envs/pybase/lib/python3.8/site-packages (from python-dateutil->azureml) (1.15.0)\n",
      "Requirement already satisfied: certifi>=2017.4.17 in /home/jp/anaconda3/envs/pybase/lib/python3.8/site-packages (from requests->azureml) (2020.12.5)\n",
      "Requirement already satisfied: chardet<5,>=3.0.2 in /home/jp/anaconda3/envs/pybase/lib/python3.8/site-packages (from requests->azureml) (4.0.0)\n",
      "Requirement already satisfied: idna<3,>=2.5 in /home/jp/anaconda3/envs/pybase/lib/python3.8/site-packages (from requests->azureml) (2.10)\n",
      "Requirement already satisfied: urllib3<1.27,>=1.21.1 in /home/jp/anaconda3/envs/pybase/lib/python3.8/site-packages (from requests->azureml) (1.26.3)\n",
      "Requirement already satisfied: pytz>=2017.3 in /home/jp/anaconda3/envs/pybase/lib/python3.8/site-packages (from pandas->azureml) (2021.1)\n",
      "Requirement already satisfied: numpy>=1.16.5 in /home/jp/.local/lib/python3.8/site-packages (from pandas->azureml) (1.20.0)\n",
      "Collecting azureml.core\n",
      "  Using cached azureml_core-1.23.0-py3-none-any.whl (2.1 MB)\n",
      "Requirement already satisfied: azure-mgmt-containerregistry>=2.0.0 in /home/jp/anaconda3/envs/pybase/lib/python3.8/site-packages (from azureml.core) (2.8.0)\n",
      "Requirement already satisfied: azure-mgmt-keyvault<7.0.0,>=0.40.0 in /home/jp/anaconda3/envs/pybase/lib/python3.8/site-packages (from azureml.core) (2.2.0)\n",
      "Requirement already satisfied: PyJWT<3.0.0 in /home/jp/anaconda3/envs/pybase/lib/python3.8/site-packages (from azureml.core) (1.7.1)\n",
      "Requirement already satisfied: cryptography!=1.9,!=2.0.*,!=2.1.*,!=2.2.*,<=3.2 in /home/jp/anaconda3/envs/pybase/lib/python3.8/site-packages (from azureml.core) (3.2)\n",
      "Requirement already satisfied: azure-mgmt-authorization<1.0.0,>=0.40.0 in /home/jp/anaconda3/envs/pybase/lib/python3.8/site-packages (from azureml.core) (0.61.0)\n",
      "Requirement already satisfied: requests<3.0.0,>=2.19.1 in /home/jp/anaconda3/envs/pybase/lib/python3.8/site-packages (from azureml.core) (2.25.1)\n",
      "Requirement already satisfied: azure-mgmt-storage<16.0.0,>=1.5.0 in /home/jp/anaconda3/envs/pybase/lib/python3.8/site-packages (from azureml.core) (11.2.0)\n",
      "Requirement already satisfied: azure-common>=1.1.12 in /home/jp/anaconda3/envs/pybase/lib/python3.8/site-packages (from azureml.core) (1.1.26)\n",
      "Requirement already satisfied: pyopenssl<21.0.0 in /home/jp/anaconda3/envs/pybase/lib/python3.8/site-packages (from azureml.core) (20.0.1)\n",
      "Requirement already satisfied: SecretStorage in /home/jp/anaconda3/envs/pybase/lib/python3.8/site-packages (from azureml.core) (3.3.0)\n",
      "Requirement already satisfied: msrestazure>=0.4.33 in /home/jp/anaconda3/envs/pybase/lib/python3.8/site-packages (from azureml.core) (0.6.4)\n",
      "Requirement already satisfied: pytz in /home/jp/anaconda3/envs/pybase/lib/python3.8/site-packages (from azureml.core) (2021.1)\n",
      "Requirement already satisfied: urllib3>=1.23 in /home/jp/anaconda3/envs/pybase/lib/python3.8/site-packages (from azureml.core) (1.26.3)\n",
      "Requirement already satisfied: python-dateutil>=2.7.3 in /home/jp/anaconda3/envs/pybase/lib/python3.8/site-packages (from azureml.core) (2.8.1)\n",
      "Requirement already satisfied: jsonpickle in /home/jp/anaconda3/envs/pybase/lib/python3.8/site-packages (from azureml.core) (1.5.1)\n",
      "Requirement already satisfied: jmespath in /home/jp/anaconda3/envs/pybase/lib/python3.8/site-packages (from azureml.core) (0.10.0)\n",
      "Requirement already satisfied: docker in /home/jp/anaconda3/envs/pybase/lib/python3.8/site-packages (from azureml.core) (4.4.1)\n",
      "Requirement already satisfied: msrest>=0.5.1 in /home/jp/anaconda3/envs/pybase/lib/python3.8/site-packages (from azureml.core) (0.6.21)\n",
      "Requirement already satisfied: pathspec in /home/jp/anaconda3/envs/pybase/lib/python3.8/site-packages (from azureml.core) (0.8.1)\n",
      "Requirement already satisfied: azure-graphrbac<1.0.0,>=0.40.0 in /home/jp/anaconda3/envs/pybase/lib/python3.8/site-packages (from azureml.core) (0.61.1)\n",
      "Requirement already satisfied: ruamel.yaml>=0.15.35 in /home/jp/anaconda3/envs/pybase/lib/python3.8/site-packages (from azureml.core) (0.16.12)\n",
      "Requirement already satisfied: azure-mgmt-resource<15.0.0,>=1.2.1 in /home/jp/anaconda3/envs/pybase/lib/python3.8/site-packages (from azureml.core) (12.0.0)\n",
      "Requirement already satisfied: contextlib2 in /home/jp/anaconda3/envs/pybase/lib/python3.8/site-packages (from azureml.core) (0.6.0.post1)\n",
      "Requirement already satisfied: adal>=1.2.0 in /home/jp/anaconda3/envs/pybase/lib/python3.8/site-packages (from azureml.core) (1.2.6)\n",
      "Requirement already satisfied: backports.tempfile in /home/jp/anaconda3/envs/pybase/lib/python3.8/site-packages (from azureml.core) (1.0)\n",
      "Requirement already satisfied: ndg-httpsclient in /home/jp/anaconda3/envs/pybase/lib/python3.8/site-packages (from azureml.core) (0.5.1)\n",
      "Requirement already satisfied: cffi!=1.11.3,>=1.8 in /home/jp/anaconda3/envs/pybase/lib/python3.8/site-packages (from cryptography!=1.9,!=2.0.*,!=2.1.*,!=2.2.*,<=3.2->azureml.core) (1.14.5)\n",
      "Requirement already satisfied: six>=1.4.1 in /home/jp/anaconda3/envs/pybase/lib/python3.8/site-packages (from cryptography!=1.9,!=2.0.*,!=2.1.*,!=2.2.*,<=3.2->azureml.core) (1.15.0)\n",
      "Requirement already satisfied: certifi>=2017.4.17 in /home/jp/anaconda3/envs/pybase/lib/python3.8/site-packages (from requests<3.0.0,>=2.19.1->azureml.core) (2020.12.5)\n",
      "Requirement already satisfied: chardet<5,>=3.0.2 in /home/jp/anaconda3/envs/pybase/lib/python3.8/site-packages (from requests<3.0.0,>=2.19.1->azureml.core) (4.0.0)\n",
      "Requirement already satisfied: idna<3,>=2.5 in /home/jp/anaconda3/envs/pybase/lib/python3.8/site-packages (from requests<3.0.0,>=2.19.1->azureml.core) (2.10)\n",
      "Requirement already satisfied: jeepney>=0.6 in /home/jp/anaconda3/envs/pybase/lib/python3.8/site-packages (from SecretStorage->azureml.core) (0.6.0)\n",
      "Requirement already satisfied: websocket-client>=0.32.0 in /home/jp/anaconda3/envs/pybase/lib/python3.8/site-packages (from docker->azureml.core) (0.57.0)\n",
      "Requirement already satisfied: requests-oauthlib>=0.5.0 in /home/jp/anaconda3/envs/pybase/lib/python3.8/site-packages (from msrest>=0.5.1->azureml.core) (1.3.0)\n",
      "Requirement already satisfied: isodate>=0.6.0 in /home/jp/anaconda3/envs/pybase/lib/python3.8/site-packages (from msrest>=0.5.1->azureml.core) (0.6.0)\n",
      "Requirement already satisfied: ruamel.yaml.clib>=0.1.2; platform_python_implementation == \"CPython\" and python_version < \"3.9\" in /home/jp/anaconda3/envs/pybase/lib/python3.8/site-packages (from ruamel.yaml>=0.15.35->azureml.core) (0.2.2)\n",
      "Requirement already satisfied: backports.weakref in /home/jp/anaconda3/envs/pybase/lib/python3.8/site-packages (from backports.tempfile->azureml.core) (1.0.post1)\n",
      "Requirement already satisfied: pyasn1>=0.1.1 in /home/jp/anaconda3/envs/pybase/lib/python3.8/site-packages (from ndg-httpsclient->azureml.core) (0.4.8)\n",
      "Requirement already satisfied: pycparser in /home/jp/anaconda3/envs/pybase/lib/python3.8/site-packages (from cffi!=1.11.3,>=1.8->cryptography!=1.9,!=2.0.*,!=2.1.*,!=2.2.*,<=3.2->azureml.core) (2.20)\n",
      "Requirement already satisfied: oauthlib>=3.0.0 in /home/jp/anaconda3/envs/pybase/lib/python3.8/site-packages (from requests-oauthlib>=0.5.0->msrest>=0.5.1->azureml.core) (3.1.0)\n",
      "\u001b[31mERROR: azureml-defaults 1.21.0 has requirement azureml-core~=1.21.0, but you'll have azureml-core 1.23.0 which is incompatible.\u001b[0m\n",
      "\u001b[31mERROR: azureml-defaults 1.21.0 has requirement azureml-dataset-runtime[fuse]~=1.21.0, but you'll have azureml-dataset-runtime 1.23.0 which is incompatible.\u001b[0m\n",
      "Installing collected packages: azureml.core\n",
      "Successfully installed azureml.core\n",
      "Collecting azureml.widgets\n",
      "  Using cached azureml_widgets-1.23.0-py3-none-any.whl (14.1 MB)\n",
      "Requirement already satisfied: ipywidgets>=7.0.0 in /home/jp/anaconda3/envs/pybase/lib/python3.8/site-packages (from azureml.widgets) (7.6.3)\n",
      "Requirement already satisfied: azureml-core~=1.23.0 in /home/jp/anaconda3/envs/pybase/lib/python3.8/site-packages (from azureml.widgets) (1.23.0)\n"
     ]
    },
    {
     "name": "stdout",
     "output_type": "stream",
     "text": [
      "Requirement already satisfied: azureml-telemetry~=1.23.0 in /home/jp/anaconda3/envs/pybase/lib/python3.8/site-packages (from azureml.widgets) (1.23.0)\n",
      "Requirement already satisfied: azure-storage-blob>=12.6.0 in /home/jp/anaconda3/envs/pybase/lib/python3.8/site-packages (from azureml.widgets) (12.7.1)\n",
      "Requirement already satisfied: jupyterlab-widgets>=1.0.0; python_version >= \"3.6\" in /home/jp/anaconda3/envs/pybase/lib/python3.8/site-packages (from ipywidgets>=7.0.0->azureml.widgets) (1.0.0)\n",
      "Requirement already satisfied: traitlets>=4.3.1 in /home/jp/anaconda3/envs/pybase/lib/python3.8/site-packages (from ipywidgets>=7.0.0->azureml.widgets) (5.0.5)\n",
      "Requirement already satisfied: nbformat>=4.2.0 in /home/jp/anaconda3/envs/pybase/lib/python3.8/site-packages (from ipywidgets>=7.0.0->azureml.widgets) (5.1.2)\n",
      "Requirement already satisfied: ipython>=4.0.0; python_version >= \"3.3\" in /home/jp/anaconda3/envs/pybase/lib/python3.8/site-packages (from ipywidgets>=7.0.0->azureml.widgets) (7.20.0)\n",
      "Requirement already satisfied: ipykernel>=4.5.1 in /home/jp/anaconda3/envs/pybase/lib/python3.8/site-packages (from ipywidgets>=7.0.0->azureml.widgets) (5.3.4)\n",
      "Requirement already satisfied: widgetsnbextension~=3.5.0 in /home/jp/anaconda3/envs/pybase/lib/python3.8/site-packages (from ipywidgets>=7.0.0->azureml.widgets) (3.5.1)\n",
      "Requirement already satisfied: ndg-httpsclient in /home/jp/anaconda3/envs/pybase/lib/python3.8/site-packages (from azureml-core~=1.23.0->azureml.widgets) (0.5.1)\n",
      "Requirement already satisfied: azure-common>=1.1.12 in /home/jp/anaconda3/envs/pybase/lib/python3.8/site-packages (from azureml-core~=1.23.0->azureml.widgets) (1.1.26)\n",
      "Requirement already satisfied: SecretStorage in /home/jp/anaconda3/envs/pybase/lib/python3.8/site-packages (from azureml-core~=1.23.0->azureml.widgets) (3.3.0)\n",
      "Requirement already satisfied: azure-mgmt-storage<16.0.0,>=1.5.0 in /home/jp/anaconda3/envs/pybase/lib/python3.8/site-packages (from azureml-core~=1.23.0->azureml.widgets) (11.2.0)\n",
      "Requirement already satisfied: pathspec in /home/jp/anaconda3/envs/pybase/lib/python3.8/site-packages (from azureml-core~=1.23.0->azureml.widgets) (0.8.1)\n",
      "Requirement already satisfied: requests<3.0.0,>=2.19.1 in /home/jp/anaconda3/envs/pybase/lib/python3.8/site-packages (from azureml-core~=1.23.0->azureml.widgets) (2.25.1)\n",
      "Requirement already satisfied: jmespath in /home/jp/anaconda3/envs/pybase/lib/python3.8/site-packages (from azureml-core~=1.23.0->azureml.widgets) (0.10.0)\n",
      "Requirement already satisfied: cryptography!=1.9,!=2.0.*,!=2.1.*,!=2.2.*,<=3.2 in /home/jp/anaconda3/envs/pybase/lib/python3.8/site-packages (from azureml-core~=1.23.0->azureml.widgets) (3.2)\n",
      "Requirement already satisfied: msrestazure>=0.4.33 in /home/jp/anaconda3/envs/pybase/lib/python3.8/site-packages (from azureml-core~=1.23.0->azureml.widgets) (0.6.4)\n",
      "Requirement already satisfied: ruamel.yaml>=0.15.35 in /home/jp/anaconda3/envs/pybase/lib/python3.8/site-packages (from azureml-core~=1.23.0->azureml.widgets) (0.16.12)\n",
      "Requirement already satisfied: backports.tempfile in /home/jp/anaconda3/envs/pybase/lib/python3.8/site-packages (from azureml-core~=1.23.0->azureml.widgets) (1.0)\n",
      "Requirement already satisfied: PyJWT<3.0.0 in /home/jp/anaconda3/envs/pybase/lib/python3.8/site-packages (from azureml-core~=1.23.0->azureml.widgets) (1.7.1)\n",
      "Requirement already satisfied: msrest>=0.5.1 in /home/jp/anaconda3/envs/pybase/lib/python3.8/site-packages (from azureml-core~=1.23.0->azureml.widgets) (0.6.21)\n",
      "Requirement already satisfied: pytz in /home/jp/anaconda3/envs/pybase/lib/python3.8/site-packages (from azureml-core~=1.23.0->azureml.widgets) (2021.1)\n",
      "Requirement already satisfied: azure-mgmt-containerregistry>=2.0.0 in /home/jp/anaconda3/envs/pybase/lib/python3.8/site-packages (from azureml-core~=1.23.0->azureml.widgets) (2.8.0)\n",
      "Requirement already satisfied: jsonpickle in /home/jp/anaconda3/envs/pybase/lib/python3.8/site-packages (from azureml-core~=1.23.0->azureml.widgets) (1.5.1)\n",
      "Requirement already satisfied: azure-mgmt-authorization<1.0.0,>=0.40.0 in /home/jp/anaconda3/envs/pybase/lib/python3.8/site-packages (from azureml-core~=1.23.0->azureml.widgets) (0.61.0)\n",
      "Requirement already satisfied: pyopenssl<21.0.0 in /home/jp/anaconda3/envs/pybase/lib/python3.8/site-packages (from azureml-core~=1.23.0->azureml.widgets) (20.0.1)\n",
      "Requirement already satisfied: contextlib2 in /home/jp/anaconda3/envs/pybase/lib/python3.8/site-packages (from azureml-core~=1.23.0->azureml.widgets) (0.6.0.post1)\n",
      "Requirement already satisfied: adal>=1.2.0 in /home/jp/anaconda3/envs/pybase/lib/python3.8/site-packages (from azureml-core~=1.23.0->azureml.widgets) (1.2.6)\n",
      "Requirement already satisfied: docker in /home/jp/anaconda3/envs/pybase/lib/python3.8/site-packages (from azureml-core~=1.23.0->azureml.widgets) (4.4.1)\n",
      "Requirement already satisfied: azure-graphrbac<1.0.0,>=0.40.0 in /home/jp/anaconda3/envs/pybase/lib/python3.8/site-packages (from azureml-core~=1.23.0->azureml.widgets) (0.61.1)\n",
      "Requirement already satisfied: urllib3>=1.23 in /home/jp/anaconda3/envs/pybase/lib/python3.8/site-packages (from azureml-core~=1.23.0->azureml.widgets) (1.26.3)\n",
      "Requirement already satisfied: azure-mgmt-resource<15.0.0,>=1.2.1 in /home/jp/anaconda3/envs/pybase/lib/python3.8/site-packages (from azureml-core~=1.23.0->azureml.widgets) (12.0.0)\n",
      "Requirement already satisfied: azure-mgmt-keyvault<7.0.0,>=0.40.0 in /home/jp/anaconda3/envs/pybase/lib/python3.8/site-packages (from azureml-core~=1.23.0->azureml.widgets) (2.2.0)\n",
      "Requirement already satisfied: python-dateutil>=2.7.3 in /home/jp/anaconda3/envs/pybase/lib/python3.8/site-packages (from azureml-core~=1.23.0->azureml.widgets) (2.8.1)\n",
      "Requirement already satisfied: applicationinsights in /home/jp/anaconda3/envs/pybase/lib/python3.8/site-packages (from azureml-telemetry~=1.23.0->azureml.widgets) (0.11.9)\n",
      "Requirement already satisfied: azure-core<2.0.0,>=1.10.0 in /home/jp/anaconda3/envs/pybase/lib/python3.8/site-packages (from azure-storage-blob>=12.6.0->azureml.widgets) (1.10.0)\n",
      "Requirement already satisfied: ipython-genutils in /home/jp/anaconda3/envs/pybase/lib/python3.8/site-packages (from traitlets>=4.3.1->ipywidgets>=7.0.0->azureml.widgets) (0.2.0)\n",
      "Requirement already satisfied: jsonschema!=2.5.0,>=2.4 in /home/jp/anaconda3/envs/pybase/lib/python3.8/site-packages (from nbformat>=4.2.0->ipywidgets>=7.0.0->azureml.widgets) (3.0.2)\n",
      "Requirement already satisfied: jupyter-core in /home/jp/anaconda3/envs/pybase/lib/python3.8/site-packages (from nbformat>=4.2.0->ipywidgets>=7.0.0->azureml.widgets) (4.7.1)\n",
      "Requirement already satisfied: jedi>=0.16 in /home/jp/anaconda3/envs/pybase/lib/python3.8/site-packages (from ipython>=4.0.0; python_version >= \"3.3\"->ipywidgets>=7.0.0->azureml.widgets) (0.17.2)\n",
      "Requirement already satisfied: decorator in /home/jp/anaconda3/envs/pybase/lib/python3.8/site-packages (from ipython>=4.0.0; python_version >= \"3.3\"->ipywidgets>=7.0.0->azureml.widgets) (4.4.2)\n",
      "Requirement already satisfied: pexpect>4.3; sys_platform != \"win32\" in /home/jp/anaconda3/envs/pybase/lib/python3.8/site-packages (from ipython>=4.0.0; python_version >= \"3.3\"->ipywidgets>=7.0.0->azureml.widgets) (4.8.0)\n",
      "Requirement already satisfied: backcall in /home/jp/anaconda3/envs/pybase/lib/python3.8/site-packages (from ipython>=4.0.0; python_version >= \"3.3\"->ipywidgets>=7.0.0->azureml.widgets) (0.2.0)\n",
      "Requirement already satisfied: pickleshare in /home/jp/anaconda3/envs/pybase/lib/python3.8/site-packages (from ipython>=4.0.0; python_version >= \"3.3\"->ipywidgets>=7.0.0->azureml.widgets) (0.7.5)\n",
      "Requirement already satisfied: setuptools>=18.5 in /home/jp/anaconda3/envs/pybase/lib/python3.8/site-packages (from ipython>=4.0.0; python_version >= \"3.3\"->ipywidgets>=7.0.0->azureml.widgets) (52.0.0.post20210125)\n",
      "Requirement already satisfied: prompt-toolkit!=3.0.0,!=3.0.1,<3.1.0,>=2.0.0 in /home/jp/anaconda3/envs/pybase/lib/python3.8/site-packages (from ipython>=4.0.0; python_version >= \"3.3\"->ipywidgets>=7.0.0->azureml.widgets) (3.0.8)\n",
      "Requirement already satisfied: pygments in /home/jp/anaconda3/envs/pybase/lib/python3.8/site-packages (from ipython>=4.0.0; python_version >= \"3.3\"->ipywidgets>=7.0.0->azureml.widgets) (2.7.4)\n",
      "Requirement already satisfied: jupyter-client in /home/jp/anaconda3/envs/pybase/lib/python3.8/site-packages (from ipykernel>=4.5.1->ipywidgets>=7.0.0->azureml.widgets) (6.1.7)\n"
     ]
    },
    {
     "name": "stdout",
     "output_type": "stream",
     "text": [
      "Requirement already satisfied: tornado>=4.2 in /home/jp/anaconda3/envs/pybase/lib/python3.8/site-packages (from ipykernel>=4.5.1->ipywidgets>=7.0.0->azureml.widgets) (6.1)\n",
      "Requirement already satisfied: notebook>=4.4.1 in /home/jp/anaconda3/envs/pybase/lib/python3.8/site-packages (from widgetsnbextension~=3.5.0->ipywidgets>=7.0.0->azureml.widgets) (6.2.0)\n",
      "Requirement already satisfied: pyasn1>=0.1.1 in /home/jp/anaconda3/envs/pybase/lib/python3.8/site-packages (from ndg-httpsclient->azureml-core~=1.23.0->azureml.widgets) (0.4.8)\n",
      "Requirement already satisfied: jeepney>=0.6 in /home/jp/anaconda3/envs/pybase/lib/python3.8/site-packages (from SecretStorage->azureml-core~=1.23.0->azureml.widgets) (0.6.0)\n",
      "Requirement already satisfied: idna<3,>=2.5 in /home/jp/anaconda3/envs/pybase/lib/python3.8/site-packages (from requests<3.0.0,>=2.19.1->azureml-core~=1.23.0->azureml.widgets) (2.10)\n",
      "Requirement already satisfied: certifi>=2017.4.17 in /home/jp/anaconda3/envs/pybase/lib/python3.8/site-packages (from requests<3.0.0,>=2.19.1->azureml-core~=1.23.0->azureml.widgets) (2020.12.5)\n",
      "Requirement already satisfied: chardet<5,>=3.0.2 in /home/jp/anaconda3/envs/pybase/lib/python3.8/site-packages (from requests<3.0.0,>=2.19.1->azureml-core~=1.23.0->azureml.widgets) (4.0.0)\n",
      "Requirement already satisfied: six>=1.4.1 in /home/jp/anaconda3/envs/pybase/lib/python3.8/site-packages (from cryptography!=1.9,!=2.0.*,!=2.1.*,!=2.2.*,<=3.2->azureml-core~=1.23.0->azureml.widgets) (1.15.0)\n",
      "Requirement already satisfied: cffi!=1.11.3,>=1.8 in /home/jp/anaconda3/envs/pybase/lib/python3.8/site-packages (from cryptography!=1.9,!=2.0.*,!=2.1.*,!=2.2.*,<=3.2->azureml-core~=1.23.0->azureml.widgets) (1.14.5)\n",
      "Requirement already satisfied: ruamel.yaml.clib>=0.1.2; platform_python_implementation == \"CPython\" and python_version < \"3.9\" in /home/jp/anaconda3/envs/pybase/lib/python3.8/site-packages (from ruamel.yaml>=0.15.35->azureml-core~=1.23.0->azureml.widgets) (0.2.2)\n",
      "Requirement already satisfied: backports.weakref in /home/jp/anaconda3/envs/pybase/lib/python3.8/site-packages (from backports.tempfile->azureml-core~=1.23.0->azureml.widgets) (1.0.post1)\n",
      "Requirement already satisfied: isodate>=0.6.0 in /home/jp/anaconda3/envs/pybase/lib/python3.8/site-packages (from msrest>=0.5.1->azureml-core~=1.23.0->azureml.widgets) (0.6.0)\n",
      "Requirement already satisfied: requests-oauthlib>=0.5.0 in /home/jp/anaconda3/envs/pybase/lib/python3.8/site-packages (from msrest>=0.5.1->azureml-core~=1.23.0->azureml.widgets) (1.3.0)\n",
      "Requirement already satisfied: websocket-client>=0.32.0 in /home/jp/anaconda3/envs/pybase/lib/python3.8/site-packages (from docker->azureml-core~=1.23.0->azureml.widgets) (0.57.0)\n",
      "Requirement already satisfied: attrs>=17.4.0 in /home/jp/anaconda3/envs/pybase/lib/python3.8/site-packages (from jsonschema!=2.5.0,>=2.4->nbformat>=4.2.0->ipywidgets>=7.0.0->azureml.widgets) (20.3.0)\n",
      "Requirement already satisfied: pyrsistent>=0.14.0 in /home/jp/anaconda3/envs/pybase/lib/python3.8/site-packages (from jsonschema!=2.5.0,>=2.4->nbformat>=4.2.0->ipywidgets>=7.0.0->azureml.widgets) (0.17.3)\n",
      "Requirement already satisfied: parso<0.8.0,>=0.7.0 in /home/jp/anaconda3/envs/pybase/lib/python3.8/site-packages (from jedi>=0.16->ipython>=4.0.0; python_version >= \"3.3\"->ipywidgets>=7.0.0->azureml.widgets) (0.7.0)\n",
      "Requirement already satisfied: ptyprocess>=0.5 in /home/jp/anaconda3/envs/pybase/lib/python3.8/site-packages (from pexpect>4.3; sys_platform != \"win32\"->ipython>=4.0.0; python_version >= \"3.3\"->ipywidgets>=7.0.0->azureml.widgets) (0.7.0)\n",
      "Requirement already satisfied: wcwidth in /home/jp/anaconda3/envs/pybase/lib/python3.8/site-packages (from prompt-toolkit!=3.0.0,!=3.0.1,<3.1.0,>=2.0.0->ipython>=4.0.0; python_version >= \"3.3\"->ipywidgets>=7.0.0->azureml.widgets) (0.2.5)\n",
      "Requirement already satisfied: pyzmq>=13 in /home/jp/anaconda3/envs/pybase/lib/python3.8/site-packages (from jupyter-client->ipykernel>=4.5.1->ipywidgets>=7.0.0->azureml.widgets) (20.0.0)\n",
      "Requirement already satisfied: prometheus-client in /home/jp/anaconda3/envs/pybase/lib/python3.8/site-packages (from notebook>=4.4.1->widgetsnbextension~=3.5.0->ipywidgets>=7.0.0->azureml.widgets) (0.9.0)\n",
      "Requirement already satisfied: terminado>=0.8.3 in /home/jp/anaconda3/envs/pybase/lib/python3.8/site-packages (from notebook>=4.4.1->widgetsnbextension~=3.5.0->ipywidgets>=7.0.0->azureml.widgets) (0.9.2)\n",
      "Requirement already satisfied: jinja2 in /home/jp/anaconda3/envs/pybase/lib/python3.8/site-packages (from notebook>=4.4.1->widgetsnbextension~=3.5.0->ipywidgets>=7.0.0->azureml.widgets) (2.11.3)\n",
      "Requirement already satisfied: Send2Trash>=1.5.0 in /home/jp/anaconda3/envs/pybase/lib/python3.8/site-packages (from notebook>=4.4.1->widgetsnbextension~=3.5.0->ipywidgets>=7.0.0->azureml.widgets) (1.5.0)\n",
      "Requirement already satisfied: nbconvert in /home/jp/anaconda3/envs/pybase/lib/python3.8/site-packages (from notebook>=4.4.1->widgetsnbextension~=3.5.0->ipywidgets>=7.0.0->azureml.widgets) (6.0.7)\n",
      "Requirement already satisfied: argon2-cffi in /home/jp/anaconda3/envs/pybase/lib/python3.8/site-packages (from notebook>=4.4.1->widgetsnbextension~=3.5.0->ipywidgets>=7.0.0->azureml.widgets) (20.1.0)\n",
      "Requirement already satisfied: pycparser in /home/jp/anaconda3/envs/pybase/lib/python3.8/site-packages (from cffi!=1.11.3,>=1.8->cryptography!=1.9,!=2.0.*,!=2.1.*,!=2.2.*,<=3.2->azureml-core~=1.23.0->azureml.widgets) (2.20)\n",
      "Requirement already satisfied: oauthlib>=3.0.0 in /home/jp/anaconda3/envs/pybase/lib/python3.8/site-packages (from requests-oauthlib>=0.5.0->msrest>=0.5.1->azureml-core~=1.23.0->azureml.widgets) (3.1.0)\n",
      "Requirement already satisfied: MarkupSafe>=0.23 in /home/jp/anaconda3/envs/pybase/lib/python3.8/site-packages (from jinja2->notebook>=4.4.1->widgetsnbextension~=3.5.0->ipywidgets>=7.0.0->azureml.widgets) (1.1.1)\n",
      "Requirement already satisfied: jupyterlab-pygments in /home/jp/anaconda3/envs/pybase/lib/python3.8/site-packages (from nbconvert->notebook>=4.4.1->widgetsnbextension~=3.5.0->ipywidgets>=7.0.0->azureml.widgets) (0.1.2)\n",
      "Requirement already satisfied: bleach in /home/jp/anaconda3/envs/pybase/lib/python3.8/site-packages (from nbconvert->notebook>=4.4.1->widgetsnbextension~=3.5.0->ipywidgets>=7.0.0->azureml.widgets) (3.3.0)\n",
      "Requirement already satisfied: nbclient<0.6.0,>=0.5.0 in /home/jp/anaconda3/envs/pybase/lib/python3.8/site-packages (from nbconvert->notebook>=4.4.1->widgetsnbextension~=3.5.0->ipywidgets>=7.0.0->azureml.widgets) (0.5.1)\n",
      "Requirement already satisfied: mistune<2,>=0.8.1 in /home/jp/anaconda3/envs/pybase/lib/python3.8/site-packages (from nbconvert->notebook>=4.4.1->widgetsnbextension~=3.5.0->ipywidgets>=7.0.0->azureml.widgets) (0.8.4)\n",
      "Requirement already satisfied: pandocfilters>=1.4.1 in /home/jp/anaconda3/envs/pybase/lib/python3.8/site-packages (from nbconvert->notebook>=4.4.1->widgetsnbextension~=3.5.0->ipywidgets>=7.0.0->azureml.widgets) (1.4.3)\n",
      "Requirement already satisfied: defusedxml in /home/jp/anaconda3/envs/pybase/lib/python3.8/site-packages (from nbconvert->notebook>=4.4.1->widgetsnbextension~=3.5.0->ipywidgets>=7.0.0->azureml.widgets) (0.6.0)\n",
      "Requirement already satisfied: entrypoints>=0.2.2 in /home/jp/anaconda3/envs/pybase/lib/python3.8/site-packages (from nbconvert->notebook>=4.4.1->widgetsnbextension~=3.5.0->ipywidgets>=7.0.0->azureml.widgets) (0.3)\n",
      "Requirement already satisfied: testpath in /home/jp/anaconda3/envs/pybase/lib/python3.8/site-packages (from nbconvert->notebook>=4.4.1->widgetsnbextension~=3.5.0->ipywidgets>=7.0.0->azureml.widgets) (0.4.4)\n",
      "Requirement already satisfied: webencodings in /home/jp/anaconda3/envs/pybase/lib/python3.8/site-packages (from bleach->nbconvert->notebook>=4.4.1->widgetsnbextension~=3.5.0->ipywidgets>=7.0.0->azureml.widgets) (0.5.1)\n",
      "Requirement already satisfied: packaging in /home/jp/anaconda3/envs/pybase/lib/python3.8/site-packages (from bleach->nbconvert->notebook>=4.4.1->widgetsnbextension~=3.5.0->ipywidgets>=7.0.0->azureml.widgets) (20.9)\n",
      "Requirement already satisfied: async-generator in /home/jp/anaconda3/envs/pybase/lib/python3.8/site-packages (from nbclient<0.6.0,>=0.5.0->nbconvert->notebook>=4.4.1->widgetsnbextension~=3.5.0->ipywidgets>=7.0.0->azureml.widgets) (1.10)\n",
      "Requirement already satisfied: nest-asyncio in /home/jp/anaconda3/envs/pybase/lib/python3.8/site-packages (from nbclient<0.6.0,>=0.5.0->nbconvert->notebook>=4.4.1->widgetsnbextension~=3.5.0->ipywidgets>=7.0.0->azureml.widgets) (1.4.3)\n",
      "Requirement already satisfied: pyparsing>=2.0.2 in /home/jp/anaconda3/envs/pybase/lib/python3.8/site-packages (from packaging->bleach->nbconvert->notebook>=4.4.1->widgetsnbextension~=3.5.0->ipywidgets>=7.0.0->azureml.widgets) (2.4.7)\n"
     ]
    },
    {
     "name": "stdout",
     "output_type": "stream",
     "text": [
      "Installing collected packages: azureml.widgets\n",
      "Successfully installed azureml.widgets\n",
      "Collecting azureml.pipeline\n",
      "  Using cached azureml_pipeline-1.23.0-py3-none-any.whl (3.7 kB)\n",
      "Requirement already satisfied: azureml-pipeline-core~=1.23.0 in /home/jp/anaconda3/envs/pybase/lib/python3.8/site-packages (from azureml.pipeline) (1.23.0)\n",
      "Requirement already satisfied: azureml-pipeline-steps~=1.23.0 in /home/jp/anaconda3/envs/pybase/lib/python3.8/site-packages (from azureml.pipeline) (1.23.0)\n",
      "Requirement already satisfied: azureml-core~=1.23.0 in /home/jp/anaconda3/envs/pybase/lib/python3.8/site-packages (from azureml-pipeline-core~=1.23.0->azureml.pipeline) (1.23.0)\n",
      "Requirement already satisfied: azureml-train-core~=1.23.0 in /home/jp/anaconda3/envs/pybase/lib/python3.8/site-packages (from azureml-pipeline-steps~=1.23.0->azureml.pipeline) (1.23.0)\n",
      "Requirement already satisfied: azureml-train-automl-client~=1.23.0 in /home/jp/anaconda3/envs/pybase/lib/python3.8/site-packages (from azureml-pipeline-steps~=1.23.0->azureml.pipeline) (1.23.0)\n",
      "Requirement already satisfied: adal>=1.2.0 in /home/jp/anaconda3/envs/pybase/lib/python3.8/site-packages (from azureml-core~=1.23.0->azureml-pipeline-core~=1.23.0->azureml.pipeline) (1.2.6)\n",
      "Requirement already satisfied: azure-mgmt-resource<15.0.0,>=1.2.1 in /home/jp/anaconda3/envs/pybase/lib/python3.8/site-packages (from azureml-core~=1.23.0->azureml-pipeline-core~=1.23.0->azureml.pipeline) (12.0.0)\n",
      "Requirement already satisfied: ndg-httpsclient in /home/jp/anaconda3/envs/pybase/lib/python3.8/site-packages (from azureml-core~=1.23.0->azureml-pipeline-core~=1.23.0->azureml.pipeline) (0.5.1)\n",
      "Requirement already satisfied: msrest>=0.5.1 in /home/jp/anaconda3/envs/pybase/lib/python3.8/site-packages (from azureml-core~=1.23.0->azureml-pipeline-core~=1.23.0->azureml.pipeline) (0.6.21)\n",
      "Requirement already satisfied: cryptography!=1.9,!=2.0.*,!=2.1.*,!=2.2.*,<=3.2 in /home/jp/anaconda3/envs/pybase/lib/python3.8/site-packages (from azureml-core~=1.23.0->azureml-pipeline-core~=1.23.0->azureml.pipeline) (3.2)\n",
      "Requirement already satisfied: SecretStorage in /home/jp/anaconda3/envs/pybase/lib/python3.8/site-packages (from azureml-core~=1.23.0->azureml-pipeline-core~=1.23.0->azureml.pipeline) (3.3.0)\n",
      "Requirement already satisfied: docker in /home/jp/anaconda3/envs/pybase/lib/python3.8/site-packages (from azureml-core~=1.23.0->azureml-pipeline-core~=1.23.0->azureml.pipeline) (4.4.1)\n",
      "Requirement already satisfied: pytz in /home/jp/anaconda3/envs/pybase/lib/python3.8/site-packages (from azureml-core~=1.23.0->azureml-pipeline-core~=1.23.0->azureml.pipeline) (2021.1)\n",
      "Requirement already satisfied: azure-mgmt-authorization<1.0.0,>=0.40.0 in /home/jp/anaconda3/envs/pybase/lib/python3.8/site-packages (from azureml-core~=1.23.0->azureml-pipeline-core~=1.23.0->azureml.pipeline) (0.61.0)\n",
      "Requirement already satisfied: azure-mgmt-keyvault<7.0.0,>=0.40.0 in /home/jp/anaconda3/envs/pybase/lib/python3.8/site-packages (from azureml-core~=1.23.0->azureml-pipeline-core~=1.23.0->azureml.pipeline) (2.2.0)\n",
      "Requirement already satisfied: urllib3>=1.23 in /home/jp/anaconda3/envs/pybase/lib/python3.8/site-packages (from azureml-core~=1.23.0->azureml-pipeline-core~=1.23.0->azureml.pipeline) (1.26.3)\n",
      "Requirement already satisfied: requests<3.0.0,>=2.19.1 in /home/jp/anaconda3/envs/pybase/lib/python3.8/site-packages (from azureml-core~=1.23.0->azureml-pipeline-core~=1.23.0->azureml.pipeline) (2.25.1)\n",
      "Requirement already satisfied: azure-mgmt-storage<16.0.0,>=1.5.0 in /home/jp/anaconda3/envs/pybase/lib/python3.8/site-packages (from azureml-core~=1.23.0->azureml-pipeline-core~=1.23.0->azureml.pipeline) (11.2.0)\n",
      "Requirement already satisfied: azure-common>=1.1.12 in /home/jp/anaconda3/envs/pybase/lib/python3.8/site-packages (from azureml-core~=1.23.0->azureml-pipeline-core~=1.23.0->azureml.pipeline) (1.1.26)\n",
      "Requirement already satisfied: pathspec in /home/jp/anaconda3/envs/pybase/lib/python3.8/site-packages (from azureml-core~=1.23.0->azureml-pipeline-core~=1.23.0->azureml.pipeline) (0.8.1)\n",
      "Requirement already satisfied: jmespath in /home/jp/anaconda3/envs/pybase/lib/python3.8/site-packages (from azureml-core~=1.23.0->azureml-pipeline-core~=1.23.0->azureml.pipeline) (0.10.0)\n",
      "Requirement already satisfied: azure-graphrbac<1.0.0,>=0.40.0 in /home/jp/anaconda3/envs/pybase/lib/python3.8/site-packages (from azureml-core~=1.23.0->azureml-pipeline-core~=1.23.0->azureml.pipeline) (0.61.1)\n",
      "Requirement already satisfied: PyJWT<3.0.0 in /home/jp/anaconda3/envs/pybase/lib/python3.8/site-packages (from azureml-core~=1.23.0->azureml-pipeline-core~=1.23.0->azureml.pipeline) (1.7.1)\n",
      "Requirement already satisfied: python-dateutil>=2.7.3 in /home/jp/anaconda3/envs/pybase/lib/python3.8/site-packages (from azureml-core~=1.23.0->azureml-pipeline-core~=1.23.0->azureml.pipeline) (2.8.1)\n",
      "Requirement already satisfied: ruamel.yaml>=0.15.35 in /home/jp/anaconda3/envs/pybase/lib/python3.8/site-packages (from azureml-core~=1.23.0->azureml-pipeline-core~=1.23.0->azureml.pipeline) (0.16.12)\n",
      "Requirement already satisfied: backports.tempfile in /home/jp/anaconda3/envs/pybase/lib/python3.8/site-packages (from azureml-core~=1.23.0->azureml-pipeline-core~=1.23.0->azureml.pipeline) (1.0)\n",
      "Requirement already satisfied: msrestazure>=0.4.33 in /home/jp/anaconda3/envs/pybase/lib/python3.8/site-packages (from azureml-core~=1.23.0->azureml-pipeline-core~=1.23.0->azureml.pipeline) (0.6.4)\n",
      "Requirement already satisfied: pyopenssl<21.0.0 in /home/jp/anaconda3/envs/pybase/lib/python3.8/site-packages (from azureml-core~=1.23.0->azureml-pipeline-core~=1.23.0->azureml.pipeline) (20.0.1)\n",
      "Requirement already satisfied: jsonpickle in /home/jp/anaconda3/envs/pybase/lib/python3.8/site-packages (from azureml-core~=1.23.0->azureml-pipeline-core~=1.23.0->azureml.pipeline) (1.5.1)\n",
      "Requirement already satisfied: contextlib2 in /home/jp/anaconda3/envs/pybase/lib/python3.8/site-packages (from azureml-core~=1.23.0->azureml-pipeline-core~=1.23.0->azureml.pipeline) (0.6.0.post1)\n",
      "Requirement already satisfied: azure-mgmt-containerregistry>=2.0.0 in /home/jp/anaconda3/envs/pybase/lib/python3.8/site-packages (from azureml-core~=1.23.0->azureml-pipeline-core~=1.23.0->azureml.pipeline) (2.8.0)\n",
      "Requirement already satisfied: azureml-train-restclients-hyperdrive~=1.23.0 in /home/jp/anaconda3/envs/pybase/lib/python3.8/site-packages (from azureml-train-core~=1.23.0->azureml-pipeline-steps~=1.23.0->azureml.pipeline) (1.23.0)\n",
      "Requirement already satisfied: azureml-telemetry~=1.23.0 in /home/jp/anaconda3/envs/pybase/lib/python3.8/site-packages (from azureml-train-core~=1.23.0->azureml-pipeline-steps~=1.23.0->azureml.pipeline) (1.23.0)\n",
      "Requirement already satisfied: azureml-automl-core~=1.23.0 in /home/jp/anaconda3/envs/pybase/lib/python3.8/site-packages (from azureml-train-automl-client~=1.23.0->azureml-pipeline-steps~=1.23.0->azureml.pipeline) (1.23.0)\n",
      "Requirement already satisfied: azureml-dataset-runtime~=1.23.0 in /home/jp/anaconda3/envs/pybase/lib/python3.8/site-packages (from azureml-train-automl-client~=1.23.0->azureml-pipeline-steps~=1.23.0->azureml.pipeline) (1.23.0)\n",
      "Requirement already satisfied: pyasn1>=0.1.1 in /home/jp/anaconda3/envs/pybase/lib/python3.8/site-packages (from ndg-httpsclient->azureml-core~=1.23.0->azureml-pipeline-core~=1.23.0->azureml.pipeline) (0.4.8)\n",
      "Requirement already satisfied: requests-oauthlib>=0.5.0 in /home/jp/anaconda3/envs/pybase/lib/python3.8/site-packages (from msrest>=0.5.1->azureml-core~=1.23.0->azureml-pipeline-core~=1.23.0->azureml.pipeline) (1.3.0)\n",
      "Requirement already satisfied: certifi>=2017.4.17 in /home/jp/anaconda3/envs/pybase/lib/python3.8/site-packages (from msrest>=0.5.1->azureml-core~=1.23.0->azureml-pipeline-core~=1.23.0->azureml.pipeline) (2020.12.5)\n",
      "Requirement already satisfied: isodate>=0.6.0 in /home/jp/anaconda3/envs/pybase/lib/python3.8/site-packages (from msrest>=0.5.1->azureml-core~=1.23.0->azureml-pipeline-core~=1.23.0->azureml.pipeline) (0.6.0)\n",
      "Requirement already satisfied: cffi!=1.11.3,>=1.8 in /home/jp/anaconda3/envs/pybase/lib/python3.8/site-packages (from cryptography!=1.9,!=2.0.*,!=2.1.*,!=2.2.*,<=3.2->azureml-core~=1.23.0->azureml-pipeline-core~=1.23.0->azureml.pipeline) (1.14.5)\n",
      "Requirement already satisfied: six>=1.4.1 in /home/jp/anaconda3/envs/pybase/lib/python3.8/site-packages (from cryptography!=1.9,!=2.0.*,!=2.1.*,!=2.2.*,<=3.2->azureml-core~=1.23.0->azureml-pipeline-core~=1.23.0->azureml.pipeline) (1.15.0)\n",
      "Requirement already satisfied: jeepney>=0.6 in /home/jp/anaconda3/envs/pybase/lib/python3.8/site-packages (from SecretStorage->azureml-core~=1.23.0->azureml-pipeline-core~=1.23.0->azureml.pipeline) (0.6.0)\n",
      "Requirement already satisfied: websocket-client>=0.32.0 in /home/jp/anaconda3/envs/pybase/lib/python3.8/site-packages (from docker->azureml-core~=1.23.0->azureml-pipeline-core~=1.23.0->azureml.pipeline) (0.57.0)\n",
      "Requirement already satisfied: idna<3,>=2.5 in /home/jp/anaconda3/envs/pybase/lib/python3.8/site-packages (from requests<3.0.0,>=2.19.1->azureml-core~=1.23.0->azureml-pipeline-core~=1.23.0->azureml.pipeline) (2.10)\n",
      "Requirement already satisfied: chardet<5,>=3.0.2 in /home/jp/anaconda3/envs/pybase/lib/python3.8/site-packages (from requests<3.0.0,>=2.19.1->azureml-core~=1.23.0->azureml-pipeline-core~=1.23.0->azureml.pipeline) (4.0.0)\n",
      "Requirement already satisfied: ruamel.yaml.clib>=0.1.2; platform_python_implementation == \"CPython\" and python_version < \"3.9\" in /home/jp/anaconda3/envs/pybase/lib/python3.8/site-packages (from ruamel.yaml>=0.15.35->azureml-core~=1.23.0->azureml-pipeline-core~=1.23.0->azureml.pipeline) (0.2.2)\n",
      "Requirement already satisfied: backports.weakref in /home/jp/anaconda3/envs/pybase/lib/python3.8/site-packages (from backports.tempfile->azureml-core~=1.23.0->azureml-pipeline-core~=1.23.0->azureml.pipeline) (1.0.post1)\n",
      "Requirement already satisfied: applicationinsights in /home/jp/anaconda3/envs/pybase/lib/python3.8/site-packages (from azureml-telemetry~=1.23.0->azureml-train-core~=1.23.0->azureml-pipeline-steps~=1.23.0->azureml.pipeline) (0.11.9)\n",
      "Requirement already satisfied: pyarrow<2.0.0,>=0.17.0 in /home/jp/anaconda3/envs/pybase/lib/python3.8/site-packages (from azureml-dataset-runtime~=1.23.0->azureml-train-automl-client~=1.23.0->azureml-pipeline-steps~=1.23.0->azureml.pipeline) (1.0.1)\n",
      "Requirement already satisfied: numpy!=1.19.3; sys_platform == \"linux\" in /home/jp/.local/lib/python3.8/site-packages (from azureml-dataset-runtime~=1.23.0->azureml-train-automl-client~=1.23.0->azureml-pipeline-steps~=1.23.0->azureml.pipeline) (1.20.0)\n",
      "Requirement already satisfied: azureml-dataprep<2.11.0a,>=2.10.0a in /home/jp/anaconda3/envs/pybase/lib/python3.8/site-packages (from azureml-dataset-runtime~=1.23.0->azureml-train-automl-client~=1.23.0->azureml-pipeline-steps~=1.23.0->azureml.pipeline) (2.10.1)\n",
      "Requirement already satisfied: oauthlib>=3.0.0 in /home/jp/anaconda3/envs/pybase/lib/python3.8/site-packages (from requests-oauthlib>=0.5.0->msrest>=0.5.1->azureml-core~=1.23.0->azureml-pipeline-core~=1.23.0->azureml.pipeline) (3.1.0)\n"
     ]
    },
    {
     "name": "stdout",
     "output_type": "stream",
     "text": [
      "Requirement already satisfied: pycparser in /home/jp/anaconda3/envs/pybase/lib/python3.8/site-packages (from cffi!=1.11.3,>=1.8->cryptography!=1.9,!=2.0.*,!=2.1.*,!=2.2.*,<=3.2->azureml-core~=1.23.0->azureml-pipeline-core~=1.23.0->azureml.pipeline) (2.20)\n",
      "Requirement already satisfied: dotnetcore2<3.0.0,>=2.1.14 in /home/jp/anaconda3/envs/pybase/lib/python3.8/site-packages (from azureml-dataprep<2.11.0a,>=2.10.0a->azureml-dataset-runtime~=1.23.0->azureml-train-automl-client~=1.23.0->azureml-pipeline-steps~=1.23.0->azureml.pipeline) (2.1.20)\n",
      "Requirement already satisfied: cloudpickle<2.0.0,>=1.1.0 in /home/jp/anaconda3/envs/pybase/lib/python3.8/site-packages (from azureml-dataprep<2.11.0a,>=2.10.0a->azureml-dataset-runtime~=1.23.0->azureml-train-automl-client~=1.23.0->azureml-pipeline-steps~=1.23.0->azureml.pipeline) (1.6.0)\n",
      "Requirement already satisfied: azure-identity<1.5.0,>=1.2.0 in /home/jp/anaconda3/envs/pybase/lib/python3.8/site-packages (from azureml-dataprep<2.11.0a,>=2.10.0a->azureml-dataset-runtime~=1.23.0->azureml-train-automl-client~=1.23.0->azureml-pipeline-steps~=1.23.0->azureml.pipeline) (1.4.1)\n",
      "Requirement already satisfied: azureml-dataprep-rslex<1.9.0a,>=1.8.0dev0 in /home/jp/anaconda3/envs/pybase/lib/python3.8/site-packages (from azureml-dataprep<2.11.0a,>=2.10.0a->azureml-dataset-runtime~=1.23.0->azureml-train-automl-client~=1.23.0->azureml-pipeline-steps~=1.23.0->azureml.pipeline) (1.8.0)\n",
      "Requirement already satisfied: azureml-dataprep-native<31.0.0,>=30.0.0 in /home/jp/anaconda3/envs/pybase/lib/python3.8/site-packages (from azureml-dataprep<2.11.0a,>=2.10.0a->azureml-dataset-runtime~=1.23.0->azureml-train-automl-client~=1.23.0->azureml-pipeline-steps~=1.23.0->azureml.pipeline) (30.0.0)\n",
      "Requirement already satisfied: distro>=1.2.0 in /home/jp/anaconda3/envs/pybase/lib/python3.8/site-packages (from dotnetcore2<3.0.0,>=2.1.14->azureml-dataprep<2.11.0a,>=2.10.0a->azureml-dataset-runtime~=1.23.0->azureml-train-automl-client~=1.23.0->azureml-pipeline-steps~=1.23.0->azureml.pipeline) (1.5.0)\n",
      "Requirement already satisfied: azure-core<2.0.0,>=1.0.0 in /home/jp/anaconda3/envs/pybase/lib/python3.8/site-packages (from azure-identity<1.5.0,>=1.2.0->azureml-dataprep<2.11.0a,>=2.10.0a->azureml-dataset-runtime~=1.23.0->azureml-train-automl-client~=1.23.0->azureml-pipeline-steps~=1.23.0->azureml.pipeline) (1.10.0)\n",
      "Requirement already satisfied: msal-extensions~=0.2.2 in /home/jp/anaconda3/envs/pybase/lib/python3.8/site-packages (from azure-identity<1.5.0,>=1.2.0->azureml-dataprep<2.11.0a,>=2.10.0a->azureml-dataset-runtime~=1.23.0->azureml-train-automl-client~=1.23.0->azureml-pipeline-steps~=1.23.0->azureml.pipeline) (0.2.2)\n",
      "Requirement already satisfied: msal<2.0.0,>=1.3.0 in /home/jp/anaconda3/envs/pybase/lib/python3.8/site-packages (from azure-identity<1.5.0,>=1.2.0->azureml-dataprep<2.11.0a,>=2.10.0a->azureml-dataset-runtime~=1.23.0->azureml-train-automl-client~=1.23.0->azureml-pipeline-steps~=1.23.0->azureml.pipeline) (1.8.0)\n",
      "Requirement already satisfied: portalocker~=1.0; platform_system != \"Windows\" in /home/jp/anaconda3/envs/pybase/lib/python3.8/site-packages (from msal-extensions~=0.2.2->azure-identity<1.5.0,>=1.2.0->azureml-dataprep<2.11.0a,>=2.10.0a->azureml-dataset-runtime~=1.23.0->azureml-train-automl-client~=1.23.0->azureml-pipeline-steps~=1.23.0->azureml.pipeline) (1.7.1)\n",
      "Installing collected packages: azureml.pipeline\n",
      "Successfully installed azureml.pipeline\n"
     ]
    }
   ],
   "source": [
    "!pip install azureml\n",
    "!pip install azureml.core\n",
    "!pip install azureml.widgets\n",
    "!pip install azureml.pipeline"
   ]
  },
  {
   "cell_type": "code",
   "execution_count": 36,
   "metadata": {},
   "outputs": [],
   "source": [
    "import os\n",
    "from azureml.core import Workspace, Experiment, Environment, ScriptRunConfig, Dataset, Run\n",
    "from azureml.widgets import RunDetails\n",
    "from azureml.pipeline.core import Pipeline, PipelineData\n",
    "from azureml.pipeline.steps import PythonScriptStep\n",
    "from azureml.pipeline.core.pipeline_output_dataset import PipelineOutputFileDataset"
   ]
  },
  {
   "cell_type": "code",
   "execution_count": 37,
   "metadata": {},
   "outputs": [],
   "source": [
    "ws = Workspace.from_config()"
   ]
  },
  {
   "cell_type": "code",
   "execution_count": 38,
   "metadata": {},
   "outputs": [],
   "source": [
    "keyvault = ws.get_default_keyvault()"
   ]
  },
  {
   "cell_type": "code",
   "execution_count": 39,
   "metadata": {},
   "outputs": [],
   "source": [
    "default_datastore = ws.get_default_datastore()"
   ]
  },
  {
   "cell_type": "code",
   "execution_count": 40,
   "metadata": {},
   "outputs": [],
   "source": [
    "dataset_who_vaccine_landscape_covid19_name = 'who-vaccine-landscape-covid19'\n",
    "dataset_who_vaccine_landscape_covid19 = Dataset.get_by_name(workspace=ws, name=dataset_who_vaccine_landscape_covid19_name)"
   ]
  },
  {
   "cell_type": "code",
   "execution_count": 41,
   "metadata": {},
   "outputs": [],
   "source": [
    "dataset_trials_landscape_name = 'trials-landscape'\n",
    "dataset_trials_landscape = Dataset.get_by_name(workspace=ws, name=dataset_trials_landscape_name)"
   ]
  },
  {
   "cell_type": "markdown",
   "metadata": {},
   "source": [
    "### Create CPU Compute"
   ]
  },
  {
   "cell_type": "code",
   "execution_count": 42,
   "metadata": {},
   "outputs": [
    {
     "name": "stdout",
     "output_type": "stream",
     "text": [
      "Found existing cluster cpucluster-d4-v3\n",
      "Succeeded\n",
      "AmlCompute wait for completion finished\n",
      "\n",
      "Minimum number of nodes requested have been provisioned\n"
     ]
    }
   ],
   "source": [
    "from azureml.core.compute import ComputeTarget, AmlCompute\n",
    "from azureml.core.compute_target import ComputeTargetException\n",
    "\n",
    "# CPU cluster name and sku\n",
    "aml_cpu_compute_cluster_name = 'cpucluster-d4-v3'\n",
    "vm_size = 'STANDARD_D4_V3'\n",
    "\n",
    "# Check cluster does not exist already\n",
    "try:\n",
    "    aml_cpu_compute = ComputeTarget(workspace=ws, name=aml_cpu_compute_cluster_name)\n",
    "    print('Found existing cluster {}'.format(aml_cpu_compute_cluster_name))\n",
    "except ComputeTargetException:\n",
    "    compute_config = AmlCompute.provisioning_configuration(vm_size=vm_size,\n",
    "                                                           max_nodes=4)\n",
    "    aml_cpu_compute = ComputeTarget.create(ws, aml_cpu_compute_cluster_name, compute_config)\n",
    "\n",
    "aml_cpu_compute.wait_for_completion(show_output=True)"
   ]
  },
  {
   "cell_type": "markdown",
   "metadata": {},
   "source": [
    "### Define Runtime Configuration"
   ]
  },
  {
   "cell_type": "code",
   "execution_count": 43,
   "metadata": {},
   "outputs": [
    {
     "data": {
      "text/plain": [
       "{\n",
       "    \"databricks\": {\n",
       "        \"eggLibraries\": [],\n",
       "        \"jarLibraries\": [],\n",
       "        \"mavenLibraries\": [],\n",
       "        \"pypiLibraries\": [],\n",
       "        \"rcranLibraries\": []\n",
       "    },\n",
       "    \"docker\": {\n",
       "        \"arguments\": [],\n",
       "        \"baseDockerfile\": null,\n",
       "        \"baseImage\": \"acieurfrcaassacr.azurecr.io/azureml-env-base-research-platform:latest\",\n",
       "        \"baseImageRegistry\": {\n",
       "            \"address\": \"acieurfrcaassacr.azurecr.io\",\n",
       "            \"password\": \"AzureMlSecret=Env_796e80c7e5bf8a48cb603f229eeec578ec72443dbfe37710cc80de67228c6713_1#EnvironmentDefinition#ContainerRegistry#Password\",\n",
       "            \"registryIdentity\": null,\n",
       "            \"username\": \"acieurfrcaassacr\"\n",
       "        },\n",
       "        \"enabled\": true,\n",
       "        \"platform\": {\n",
       "            \"architecture\": \"amd64\",\n",
       "            \"os\": \"Linux\"\n",
       "        },\n",
       "        \"sharedVolumes\": true,\n",
       "        \"shmSize\": null\n",
       "    },\n",
       "    \"environmentVariables\": {\n",
       "        \"EXAMPLE_ENV_VAR\": \"EXAMPLE_VALUE\"\n",
       "    },\n",
       "    \"inferencingStackVersion\": null,\n",
       "    \"name\": \"rp\",\n",
       "    \"python\": {\n",
       "        \"baseCondaEnvironment\": null,\n",
       "        \"condaDependencies\": {\n",
       "            \"channels\": [\n",
       "                \"anaconda\",\n",
       "                \"conda-forge\"\n",
       "            ],\n",
       "            \"dependencies\": [\n",
       "                \"python=3.6.2\",\n",
       "                {\n",
       "                    \"pip\": [\n",
       "                        \"azureml-defaults\"\n",
       "                    ]\n",
       "                }\n",
       "            ],\n",
       "            \"name\": \"project_environment\"\n",
       "        },\n",
       "        \"condaDependenciesFile\": null,\n",
       "        \"interpreterPath\": \"python\",\n",
       "        \"userManagedDependencies\": true\n",
       "    },\n",
       "    \"r\": null,\n",
       "    \"spark\": {\n",
       "        \"packages\": [],\n",
       "        \"precachePackages\": true,\n",
       "        \"repositories\": []\n",
       "    },\n",
       "    \"version\": \"1\"\n",
       "}"
      ]
     },
     "execution_count": 43,
     "metadata": {},
     "output_type": "execute_result"
    }
   ],
   "source": [
    "# https://docs.microsoft.com/en-us/azure/container-registry/container-registry-auth-service-principal\n",
    "\n",
    "from azureml.core.runconfig import RunConfiguration\n",
    "aml_run_config = RunConfiguration()\n",
    "\n",
    "from azureml.core.environment import Environment\n",
    "# Create the environment\n",
    "rp_env = Environment(name='rp')\n",
    "# Enable Docker and reference an image\n",
    "rp_env.docker.enabled = True\n",
    "rp_env.python.user_managed_dependencies=True\n",
    "\n",
    "rp_env.docker.base_image_registry.address = \"acieurfrcaassacr.azurecr.io\"\n",
    "rp_env.docker.base_image_registry.username = keyvault.get_secret(name='acieurfrcaassacr-admin-user')\n",
    "rp_env.docker.base_image_registry.password = keyvault.get_secret(name='acieurfrcaassacr-admin-pwd')\n",
    "rp_env.docker.base_image = \"acieurfrcaassacr.azurecr.io/azureml-env-base-research-platform:latest\"\n",
    "\n",
    "aml_run_config.environment = rp_env\n",
    "rp_env.register(workspace=ws)"
   ]
  },
  {
   "cell_type": "markdown",
   "metadata": {},
   "source": [
    "## Specify script source folder(s)"
   ]
  },
  {
   "cell_type": "code",
   "execution_count": 44,
   "metadata": {},
   "outputs": [
    {
     "name": "stdout",
     "output_type": "stream",
     "text": [
      "Source directory for data preparation is /media/shared/My Documents/My Developments/research-platform/code/dataprep/clinical-trials/who-vaccine-landscape.\n"
     ]
    }
   ],
   "source": [
    "dataprep_script_folder = '../'\n",
    "print('Source directory for data preparation is {}.'.format(os.path.realpath(dataprep_script_folder)))"
   ]
  },
  {
   "cell_type": "markdown",
   "metadata": {},
   "source": [
    "### Step - Extract WHO PDF to trials JSON"
   ]
  },
  {
   "cell_type": "code",
   "execution_count": 45,
   "metadata": {},
   "outputs": [
    {
     "name": "stdout",
     "output_type": "stream",
     "text": [
      "Step Dataprep Extract created\n"
     ]
    }
   ],
   "source": [
    "trials_out = PipelineOutputFileDataset(PipelineData(name=\"dataset_trials_landscape\",datastore=default_datastore))\n",
    "\n",
    "step_dataprep_extract = PythonScriptStep(\n",
    "    name='Extract WHO to trials JSON',\n",
    "    script_name='step_dataprep_extract.py', \n",
    "    arguments=['--input', dataset_who_vaccine_landscape_covid19.as_named_input('raw_who_data').as_mount(),\n",
    "               '--output_dataset', 'trials-landscape',\n",
    "               '--disease', 'COVID19'],\n",
    "    outputs=[trials_out],\n",
    "    compute_target=aml_cpu_compute,\n",
    "    runconfig=aml_run_config,\n",
    "    source_directory=dataprep_script_folder,\n",
    "    allow_reuse=True\n",
    ")\n",
    "\n",
    "print('Step Dataprep Extract created')"
   ]
  },
  {
   "cell_type": "markdown",
   "metadata": {},
   "source": [
    "### Create Step List"
   ]
  },
  {
   "cell_type": "code",
   "execution_count": 46,
   "metadata": {},
   "outputs": [
    {
     "name": "stdout",
     "output_type": "stream",
     "text": [
      "Step lists created\n"
     ]
    }
   ],
   "source": [
    "steps = [step_dataprep_extract]\n",
    "print(\"Step lists created\")"
   ]
  },
  {
   "cell_type": "code",
   "execution_count": 47,
   "metadata": {},
   "outputs": [
    {
     "name": "stdout",
     "output_type": "stream",
     "text": [
      "Pipeline is built\n"
     ]
    }
   ],
   "source": [
    "aml_pipeline = Pipeline(workspace=ws, steps=steps)\n",
    "print (\"Pipeline is built\")"
   ]
  },
  {
   "cell_type": "code",
   "execution_count": 48,
   "metadata": {},
   "outputs": [
    {
     "name": "stdout",
     "output_type": "stream",
     "text": [
      "Step Extract WHO to trials JSON is ready to be created [3cbe53fd]\n",
      "Pipeline validation complete\n"
     ]
    }
   ],
   "source": [
    "aml_pipeline.validate()\n",
    "print(\"Pipeline validation complete\")"
   ]
  },
  {
   "cell_type": "code",
   "execution_count": 49,
   "metadata": {},
   "outputs": [
    {
     "name": "stdout",
     "output_type": "stream",
     "text": [
      "Created step Extract WHO to trials JSON [3cbe53fd][9d3fbbe5-a6d1-438c-b145-50ee9704d410], (This step will run and generate new outputs)\n",
      "Submitted PipelineRun 5438ad05-126d-4e40-861c-a112988a598f\n",
      "Link to Azure Machine Learning Portal: https://ml.azure.com/experiments/pipeline-who-vaccine-landscape-covid19/runs/5438ad05-126d-4e40-861c-a112988a598f?wsid=/subscriptions/19518d47-0c8b-4829-a602-c5ced78deb3f/resourcegroups/aci-eur-frc-aa-ss-rg/workspaces/aci-eur-frc-aa-ss-mlw\n",
      "Experiment pipeline who-vaccine-landscape-covid19 is submitted for execution\n"
     ]
    }
   ],
   "source": [
    "# Note regenerate output, decides whether to execute the module to regenerate output at running time.\n",
    "# It's by default unselected, which means if the module has been executed with the same parameters previously, \n",
    "# the system will reuse the output from last run to reduce run time.\n",
    "\n",
    "aml_pipeline_run = Experiment(ws, 'pipeline-who-vaccine-landscape-covid19').submit(aml_pipeline, regenerate_outputs=True)\n",
    "print(\"Experiment pipeline who-vaccine-landscape-covid19 is submitted for execution\")"
   ]
  },
  {
   "cell_type": "code",
   "execution_count": 50,
   "metadata": {},
   "outputs": [
    {
     "data": {
      "application/vnd.jupyter.widget-view+json": {
       "model_id": "c1d8c32031254f19a7736be3f756a71a",
       "version_major": 2,
       "version_minor": 0
      },
      "text/plain": [
       "_PipelineWidget(widget_settings={'childWidgetDisplay': 'popup', 'send_telemetry': False, 'log_level': 'INFO', …"
      ]
     },
     "metadata": {},
     "output_type": "display_data"
    },
    {
     "data": {
      "application/aml.mini.widget.v1": "\"NotImplementedError('Linux distribution ubuntu 20.04 does not have automatic support.\\\\n.NET Core 2.1 can still be used via dotnetcore2 if the required dependencies are installed.\\\\nVisit https://aka.ms/dotnet-install-linux for Linux distro specific .NET Core install instructions.\\\\nFollow your distro specific instructions to install `dotnet-runtime-*` and replace `*` with `2.1`.\\\\n')\""
     },
     "metadata": {},
     "output_type": "display_data"
    }
   ],
   "source": [
    "RunDetails(aml_pipeline_run).show()"
   ]
  },
  {
   "cell_type": "code",
   "execution_count": 51,
   "metadata": {},
   "outputs": [],
   "source": [
    "step_runs = aml_pipeline_run.get_children()\n",
    "for step_run in step_runs:\n",
    "    status = step_run.get_status()\n",
    "    print('Script:', step_run.name, 'status:', status)\n",
    "    \n",
    "    # Change this if you want to see details even if the Step has succeeded.\n",
    "    if status == \"Failed\":\n",
    "        joblog = step_run.get_job_log()\n",
    "        print('job log:', joblog)"
   ]
  },
  {
   "cell_type": "code",
   "execution_count": null,
   "metadata": {},
   "outputs": [],
   "source": []
  },
  {
   "cell_type": "code",
   "execution_count": null,
   "metadata": {},
   "outputs": [],
   "source": []
  },
  {
   "cell_type": "code",
   "execution_count": null,
   "metadata": {},
   "outputs": [],
   "source": []
  }
 ],
 "metadata": {
  "kernelspec": {
   "display_name": "Python 3",
   "language": "python",
   "name": "python3"
  },
  "language_info": {
   "codemirror_mode": {
    "name": "ipython",
    "version": 3
   },
   "file_extension": ".py",
   "mimetype": "text/x-python",
   "name": "python",
   "nbconvert_exporter": "python",
   "pygments_lexer": "ipython3",
   "version": "3.8.5"
  }
 },
 "nbformat": 4,
 "nbformat_minor": 4
}
